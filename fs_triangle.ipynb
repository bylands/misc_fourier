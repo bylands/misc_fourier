{
 "cells": [
  {
   "cell_type": "code",
   "execution_count": null,
   "metadata": {},
   "outputs": [],
   "source": [
    "import numpy as np\n",
    "import matplotlib.pyplot as plt\n",
    "\n",
    "from ipywidgets import interact"
   ]
  },
  {
   "cell_type": "code",
   "execution_count": null,
   "metadata": {},
   "outputs": [],
   "source": [
    "def fourier(f, x, n, **kwargs):\n",
    "    T = x.max()\n",
    "    N = x.size\n",
    "\n",
    "    if n == 0:\n",
    "        return f(x, **kwargs).sum()/N\n",
    "\n",
    "    else:\n",
    "        a = 2/N * (f(x, **kwargs)*np.cos(2*np.pi*x*n/T)).sum()\n",
    "        b = 2/N * (f(x, **kwargs)*np.sin(2*np.pi*x*n/T)).sum()\n",
    "\n",
    "        return a, b\n"
   ]
  },
  {
   "cell_type": "code",
   "execution_count": null,
   "metadata": {},
   "outputs": [],
   "source": [
    "def triangle(x, **kwargs):\n",
    "    A = kwargs['A']\n",
    "    D = kwargs['D']\n",
    "    N = x.size\n",
    "    ND = int(N*D)\n",
    "    L = x.max() - x.min()\n",
    "\n",
    "    y1 = A / (L * D) * x[:ND]\n",
    "    y2 = A / (L * (1-D)) * (L - x[ND:])\n",
    "    \n",
    "    return np.append(y1, y2)\n",
    "\n",
    "\n",
    "def square(x, **kwargs):\n",
    "    A = kwargs['A']\n",
    "    D = kwargs['D']\n",
    "    N = x.size\n",
    "    DN = int(D*N)\n",
    "\n",
    "    return np.append(A*np.ones(DN), np.zeros(N-DN))"
   ]
  },
  {
   "cell_type": "code",
   "execution_count": null,
   "metadata": {},
   "outputs": [],
   "source": [
    "N = 1_000\n",
    "T = 2\n",
    "x = np.linspace(0, T, N)\n",
    "dx = 0\n",
    "\n",
    "f = triangle\n",
    "# kwargs = {'A': 1, 'L': T, 'D': 0.8}\n",
    "A = 1\n",
    "L = T\n",
    "D = 0.8\n",
    "\n",
    "nmax = 31\n",
    "\n",
    "a = np.zeros(nmax+1)\n",
    "b = np.zeros(nmax+1)\n",
    "\n",
    "a[0] = fourier(f, x, 0, A=A, D=D, L=L)\n",
    "\n",
    "for n in range(1, nmax+1):\n",
    "    a[n], b[n] = fourier(f, x, n, A=A, D=D, L=L)\n",
    "    \n",
    "def plot_wave(dx=0):\n",
    "    fig, ax = plt.subplots()\n",
    "    plt.ylim([-A, A])\n",
    "\n",
    "    # ax.plot(x, f(x, A=A, D=D))\n",
    "\n",
    "    y = np.zeros(N)\n",
    "\n",
    "    for n in range(nmax+1):\n",
    "        y += a[n]*np.cos(2*np.pi*(x-dx)*n/T) + b[n]*np.sin(2*np.pi*(x-dx)*n/T)\n",
    "        y -= a[n]*np.cos(2*np.pi*(x+dx)*n/T) + b[n]*np.sin(2*np.pi*(x+dx)*n/T)\n",
    "        # ax.plot(x, y)\n",
    "\n",
    "    ax.plot(x, y)\n",
    "\n",
    "interact(plot_wave, dx=(0, T, T/100))"
   ]
  },
  {
   "cell_type": "code",
   "execution_count": null,
   "metadata": {},
   "outputs": [],
   "source": []
  }
 ],
 "metadata": {
  "language_info": {
   "name": "python",
   "pygments_lexer": "ipython3"
  }
 },
 "nbformat": 4,
 "nbformat_minor": 2
}
